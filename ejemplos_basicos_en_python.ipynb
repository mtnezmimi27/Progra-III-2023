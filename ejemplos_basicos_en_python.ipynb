{
  "cells": [
    {
      "cell_type": "markdown",
      "metadata": {
        "id": "view-in-github",
        "colab_type": "text"
      },
      "source": [
        "<a href=\"https://colab.research.google.com/github/mtnezmimi27/Progra-III-2023/blob/main/ejemplos_basicos_en_python.ipynb\" target=\"_parent\"><img src=\"https://colab.research.google.com/assets/colab-badge.svg\" alt=\"Open In Colab\"/></a>"
      ]
    },
    {
      "cell_type": "code",
      "execution_count": null,
      "metadata": {
        "id": "h6Md6i8jGLZ3"
      },
      "outputs": [],
      "source": []
    },
    {
      "cell_type": "markdown",
      "metadata": {
        "id": "ETdNu4kgHqhM"
      },
      "source": [
        "Introduccion a python\n",
        "\n",
        "Declaracion de variables"
      ]
    },
    {
      "cell_type": "code",
      "execution_count": null,
      "metadata": {
        "id": "Tjc93X2AH7pv"
      },
      "outputs": [],
      "source": [
        "saludo = \"Hola Mundo\"\n",
        "\n",
        "print(saludo)"
      ]
    },
    {
      "cell_type": "code",
      "execution_count": null,
      "metadata": {
        "id": "i22SNzNXI2R7"
      },
      "outputs": [],
      "source": [
        "num1 = 5\n",
        "num2 = 7.5\n",
        "resp = num1 + num2\n",
        "print(\"La suma de \", num1, \" + \", num2, \"=\", resp)\n"
      ]
    },
    {
      "cell_type": "code",
      "execution_count": null,
      "metadata": {
        "id": "4xzBrdK_KKME"
      },
      "outputs": [],
      "source": [
        "name = \"Emely Rodriguez\"\n",
        "edad = 20\n",
        "saludo = \"Hola \"+ name + \" , tu edad \"+ str(edad)\n",
        "print(saludo)"
      ]
    },
    {
      "cell_type": "code",
      "execution_count": null,
      "metadata": {
        "id": "_eOPn-5jLSzF"
      },
      "outputs": [],
      "source": [
        "nombre = input(\"Dime tu nombre: \")\n",
        "edad = input(\"Tu Edad: \")\n",
        "saludo = \"Hola que tal \"+ nombre + \" , tu edad: \"+ edad\n",
        "print(saludo)"
      ]
    },
    {
      "cell_type": "code",
      "execution_count": null,
      "metadata": {
        "id": "rX7Yd2zYMibs"
      },
      "outputs": [],
      "source": [
        "num1 = float(input(\"Dame tu num1: \"))\n",
        "num2 = float(input(\"Dime tu num2: \"))\n",
        "resp = num1 + num2\n",
        "print(\"La suma de \", num1, \" + \", num2, \"=\", str(resp))"
      ]
    },
    {
      "cell_type": "code",
      "execution_count": null,
      "metadata": {
        "id": "3bdHJYngPorK"
      },
      "outputs": [],
      "source": [
        "num1 = float(input(\"Dame el num1: \"))\n",
        "num2 = float(input(\"Dame el num2: \"))\n",
        "resp = num1 - num2\n",
        "print(\"La resta de \", num1, \" + \", num2, \"=\", str(resp))"
      ]
    },
    {
      "cell_type": "code",
      "execution_count": null,
      "metadata": {
        "id": "Zj0xgAkMPojn"
      },
      "outputs": [],
      "source": []
    },
    {
      "cell_type": "markdown",
      "metadata": {
        "id": "h5HfzkBAAqPD"
      },
      "source": [
        "**FUNCIONES DE USUARIO**\n",
        "Convertir grados celsius a farenheit\n",
        "\n",
        "\n",
        "\n"
      ]
    },
    {
      "cell_type": "code",
      "execution_count": null,
      "metadata": {
        "id": "4hEzkXbFCEJH"
      },
      "outputs": [],
      "source": [
        "def convertir(c):\n",
        "  return 32 + c*9/5"
      ]
    },
    {
      "cell_type": "code",
      "execution_count": null,
      "metadata": {
        "id": "MPGDBOmJBgVx"
      },
      "outputs": [],
      "source": [
        "c = float(input(\"Celsius: \"))\n",
        "print(\"F: \", convertir(c))"
      ]
    },
    {
      "cell_type": "code",
      "execution_count": null,
      "metadata": {
        "id": "Spm_wUltF944"
      },
      "outputs": [],
      "source": [
        "def convertir_cf(c)\n",
        "  return 32 + c*9/5"
      ]
    },
    {
      "cell_type": "code",
      "execution_count": null,
      "metadata": {
        "id": "t1-fcWSNHe32"
      },
      "outputs": [],
      "source": [
        "c = float(input(\"Celsius: \"))\n",
        "print(\"F: \", convertir_cf(c))"
      ]
    },
    {
      "cell_type": "markdown",
      "metadata": {
        "id": "Oiv7RdqvIXw1"
      },
      "source": [
        "**Ejercicios**\n",
        "* convertir de Farenheit a celsius\n",
        "* convertir de [celsius,farenheit] a kelvin\n",
        "\n",
        "* calcular el sueldo mensual"
      ]
    },
    {
      "cell_type": "code",
      "execution_count": null,
      "metadata": {
        "id": "MJ8DxLz6MBoO"
      },
      "outputs": [],
      "source": [
        "def convertir(f):\n",
        "\n",
        "  return (f - 32) * 5/9"
      ]
    },
    {
      "cell_type": "code",
      "execution_count": null,
      "metadata": {
        "id": "9OZ9lcNdMdDV"
      },
      "outputs": [],
      "source": [
        "f = float(input(\"farenheit: \"))\n",
        "print(\"c: \", convertir(f))"
      ]
    },
    {
      "cell_type": "code",
      "execution_count": null,
      "metadata": {
        "id": "xSad-LPPKFR2"
      },
      "outputs": [],
      "source": [
        "def sueldo(numHrs, valorXhr):\n",
        "  return numHrs*valorXhr*30"
      ]
    },
    {
      "cell_type": "code",
      "execution_count": null,
      "metadata": {
        "id": "wFcZZe3KKxvw"
      },
      "outputs": [],
      "source": [
        "valorXhr = 4\n",
        "numHrs = float(input(\"Horas trabajadas: \"))\n",
        "print(\"sueldo: \", sueldo(numHrs, valorXhr))"
      ]
    },
    {
      "cell_type": "code",
      "execution_count": null,
      "metadata": {
        "id": "t29N1L2bPQi5"
      },
      "outputs": [],
      "source": [
        "def sueldo(numHrs, valorXhr):\n",
        "  sueldo = numHrs*valorXhr*30\n",
        "  if(numHrs>8):\n",
        "    sueldo += (numHrs-8)*valorXhr*2*30\n",
        "    #isss + afp 3 + 6.25 = 9.25 = 100 - 9.25 = 90.75/100 = 0.9075\n",
        "    sueldo = sueldo*0.9075\n",
        "    return sueldo"
      ]
    },
    {
      "cell_type": "code",
      "source": [
        "tabla_isr = [\n",
        "    [0.01, 471, 0, 0],\n",
        "    [472.01, 895.24, 0.1, 17.67],\n",
        "    [895.25, 2038.1, 0.2, 60.00],\n",
        "    [2038.11,9999999, 0.3, 288.57]\n",
        "]"
      ],
      "metadata": {
        "id": "p8VaQLnnVbOs"
      },
      "execution_count": null,
      "outputs": []
    },
    {
      "cell_type": "code",
      "source": [
        "def calcularIsr(sueldo, sueldoNeto):\n",
        "  impSr = 0\n",
        "for tramo in tabla_isr:\n",
        "  if sueldo>tramo[0] and sueldo<=tramo[1]:\n",
        "    impSr = (sueldoNeto-tramo[0])*tramo[2] + tramo[3]\n",
        "return impSr"
      ],
      "metadata": {
        "id": "myI3qsRuXaop",
        "colab": {
          "base_uri": "https://localhost:8080/",
          "height": 245
        },
        "outputId": "c2e61e6d-0caf-45de-daae-66a864b90630"
      },
      "execution_count": null,
      "outputs": [
        {
          "output_type": "error",
          "ename": "NameError",
          "evalue": "ignored",
          "traceback": [
            "\u001b[0;31m---------------------------------------------------------------------------\u001b[0m",
            "\u001b[0;31mNameError\u001b[0m                                 Traceback (most recent call last)",
            "\u001b[0;32m<ipython-input-24-8bccf86dcfcf>\u001b[0m in \u001b[0;36m<cell line: 3>\u001b[0;34m()\u001b[0m\n\u001b[1;32m      1\u001b[0m \u001b[0;32mdef\u001b[0m \u001b[0mcalcularIsr\u001b[0m\u001b[0;34m(\u001b[0m\u001b[0msueldo\u001b[0m\u001b[0;34m,\u001b[0m \u001b[0msueldoNeto\u001b[0m\u001b[0;34m)\u001b[0m\u001b[0;34m:\u001b[0m\u001b[0;34m\u001b[0m\u001b[0;34m\u001b[0m\u001b[0m\n\u001b[1;32m      2\u001b[0m   \u001b[0mimpSr\u001b[0m \u001b[0;34m=\u001b[0m \u001b[0;36m0\u001b[0m\u001b[0;34m\u001b[0m\u001b[0;34m\u001b[0m\u001b[0m\n\u001b[0;32m----> 3\u001b[0;31m \u001b[0;32mfor\u001b[0m \u001b[0mtramo\u001b[0m \u001b[0;32min\u001b[0m \u001b[0mtabla_isr\u001b[0m\u001b[0;34m:\u001b[0m\u001b[0;34m\u001b[0m\u001b[0;34m\u001b[0m\u001b[0m\n\u001b[0m\u001b[1;32m      4\u001b[0m   \u001b[0;32mif\u001b[0m \u001b[0msueldo\u001b[0m\u001b[0;34m>\u001b[0m\u001b[0mtramo\u001b[0m\u001b[0;34m[\u001b[0m\u001b[0;36m0\u001b[0m\u001b[0;34m]\u001b[0m \u001b[0;32mand\u001b[0m \u001b[0msueldo\u001b[0m\u001b[0;34m<=\u001b[0m\u001b[0mtramo\u001b[0m\u001b[0;34m[\u001b[0m\u001b[0;36m1\u001b[0m\u001b[0;34m]\u001b[0m\u001b[0;34m:\u001b[0m\u001b[0;34m\u001b[0m\u001b[0;34m\u001b[0m\u001b[0m\n\u001b[1;32m      5\u001b[0m     \u001b[0mimpSr\u001b[0m \u001b[0;34m=\u001b[0m \u001b[0;34m(\u001b[0m\u001b[0msueldoNeto\u001b[0m\u001b[0;34m-\u001b[0m\u001b[0mtramo\u001b[0m\u001b[0;34m[\u001b[0m\u001b[0;36m0\u001b[0m\u001b[0;34m]\u001b[0m\u001b[0;34m)\u001b[0m\u001b[0;34m*\u001b[0m\u001b[0mtramo\u001b[0m\u001b[0;34m[\u001b[0m\u001b[0;36m2\u001b[0m\u001b[0;34m]\u001b[0m \u001b[0;34m+\u001b[0m \u001b[0mtramo\u001b[0m\u001b[0;34m[\u001b[0m\u001b[0;36m3\u001b[0m\u001b[0;34m]\u001b[0m\u001b[0;34m\u001b[0m\u001b[0;34m\u001b[0m\u001b[0m\n",
            "\u001b[0;31mNameError\u001b[0m: name 'tabla_isr' is not defined"
          ]
        }
      ]
    },
    {
      "cell_type": "code",
      "execution_count": null,
      "metadata": {
        "id": "X15vwKUgQT1G"
      },
      "outputs": [],
      "source": [
        "valorXhr = 4\n",
        "#isss = 3%\n",
        "#afp = 6.25%\n",
        "numHrs = float(input(\"Horas trabajadas: \"))\n",
        "s = sueldo(numHrs, valorXhr)\n",
        "isr = calcularIsr(s, s*0.9075)\n",
        "print( \"Sueldo: \", s, \"ISR: \", isr, s*0.9075-isr)"
      ]
    },
    {
      "cell_type": "markdown",
      "source": [
        "Lista"
      ],
      "metadata": {
        "id": "f-u9EhCqG99n"
      }
    },
    {
      "cell_type": "code",
      "source": [
        "data = [2,5,6,8,9]"
      ],
      "metadata": {
        "id": "2ERGAoxsHC13"
      },
      "execution_count": null,
      "outputs": []
    },
    {
      "cell_type": "code",
      "source": [
        "resp = map(lambda n:n**3, data)\n",
        "print(list(resp))"
      ],
      "metadata": {
        "id": "rt-SsZQCHfrd"
      },
      "execution_count": null,
      "outputs": []
    },
    {
      "cell_type": "code",
      "source": [
        "f = map(lambda c:c*9/5 + 32, data)\n",
        "print( list(f) )"
      ],
      "metadata": {
        "id": "swp1npcJLqTe"
      },
      "execution_count": null,
      "outputs": []
    },
    {
      "cell_type": "code",
      "source": [
        "pares = filter(lambda n:n%2==0, data)\n",
        "print( list(pares) )"
      ],
      "metadata": {
        "id": "TP79LtoaMn5N"
      },
      "execution_count": null,
      "outputs": []
    },
    {
      "cell_type": "code",
      "source": [
        "impar = filter(lambda x: x%2 != 0, data)\n",
        "print(list(impar))"
      ],
      "metadata": {
        "id": "BSSp83oWOg-Z",
        "colab": {
          "base_uri": "https://localhost:8080/",
          "height": 193
        },
        "outputId": "ae3adb12-7dee-44d6-b4e8-30a299a2f384"
      },
      "execution_count": null,
      "outputs": [
        {
          "output_type": "error",
          "ename": "NameError",
          "evalue": "ignored",
          "traceback": [
            "\u001b[0;31m---------------------------------------------------------------------------\u001b[0m",
            "\u001b[0;31mNameError\u001b[0m                                 Traceback (most recent call last)",
            "\u001b[0;32m<ipython-input-17-954e48045b07>\u001b[0m in \u001b[0;36m<cell line: 1>\u001b[0;34m()\u001b[0m\n\u001b[0;32m----> 1\u001b[0;31m \u001b[0mimpar\u001b[0m \u001b[0;34m=\u001b[0m \u001b[0mfilter\u001b[0m\u001b[0;34m(\u001b[0m\u001b[0;32mlambda\u001b[0m \u001b[0mx\u001b[0m\u001b[0;34m:\u001b[0m \u001b[0mx\u001b[0m\u001b[0;34m%\u001b[0m\u001b[0;36m2\u001b[0m \u001b[0;34m!=\u001b[0m \u001b[0;36m0\u001b[0m\u001b[0;34m,\u001b[0m \u001b[0mdata\u001b[0m\u001b[0;34m)\u001b[0m\u001b[0;34m\u001b[0m\u001b[0;34m\u001b[0m\u001b[0m\n\u001b[0m\u001b[1;32m      2\u001b[0m \u001b[0mprint\u001b[0m\u001b[0;34m(\u001b[0m\u001b[0mlist\u001b[0m\u001b[0;34m(\u001b[0m\u001b[0mimpar\u001b[0m\u001b[0;34m)\u001b[0m\u001b[0;34m)\u001b[0m\u001b[0;34m\u001b[0m\u001b[0;34m\u001b[0m\u001b[0m\n",
            "\u001b[0;31mNameError\u001b[0m: name 'data' is not defined"
          ]
        }
      ]
    },
    {
      "cell_type": "markdown",
      "source": [
        "ciclos\n",
        "*FOR"
      ],
      "metadata": {
        "id": "hktI3UxWQWXl"
      }
    },
    {
      "cell_type": "code",
      "source": [
        "for item in data:\n",
        "  print(item)"
      ],
      "metadata": {
        "id": "fNcHx0mIQao9"
      },
      "execution_count": null,
      "outputs": []
    },
    {
      "cell_type": "markdown",
      "source": [
        "while"
      ],
      "metadata": {
        "id": "XQRbng9nQ0WV"
      }
    },
    {
      "cell_type": "code",
      "source": [
        "i=0\n",
        "n = len(data)\n",
        "while i<n:\n",
        "  print( data[i] )\n",
        "  i+=1"
      ],
      "metadata": {
        "id": "0910kO8cQ5E4"
      },
      "execution_count": null,
      "outputs": []
    },
    {
      "cell_type": "markdown",
      "source": [
        "tabla de multiplicar"
      ],
      "metadata": {
        "id": "mrMRU6ljTLHx"
      }
    },
    {
      "cell_type": "code",
      "source": [
        "num = int(input(\"numero: \"))\n",
        "for item in range(1,11):\n",
        "  print(num, \"x\" , item, \"=\" , num*item)"
      ],
      "metadata": {
        "colab": {
          "base_uri": "https://localhost:8080/"
        },
        "id": "EKE5tGF0TPAw",
        "outputId": "32e8c016-1e42-47ff-dc06-53f124c480c9"
      },
      "execution_count": null,
      "outputs": [
        {
          "output_type": "stream",
          "name": "stdout",
          "text": [
            "numero: 8\n",
            "8 x 1 = 8\n",
            "8 x 2 = 16\n",
            "8 x 3 = 24\n",
            "8 x 4 = 32\n",
            "8 x 5 = 40\n",
            "8 x 6 = 48\n",
            "8 x 7 = 56\n",
            "8 x 8 = 64\n",
            "8 x 9 = 72\n",
            "8 x 10 = 80\n"
          ]
        }
      ]
    },
    {
      "cell_type": "markdown",
      "source": [
        "**Escribir un programa que pida la nota de examen (0-10), e imprima por pantalla la calificacion en formato: \"Suspenso\" si la nota es menor a 5, aprobado si es entre 5 inclusive, y 7 sin incluir, \"Notable\" si esta entre 7 inclusive y 9 sin incluir, \"Sobresaliente\" si esta entre 9 inclusive y 10 sin incluir, y \"Honorable\" si es 10**"
      ],
      "metadata": {
        "id": "oL5nWkmnJnfU"
      }
    },
    {
      "cell_type": "markdown",
      "source": [],
      "metadata": {
        "id": "CVcUlBG7Jnc6"
      }
    },
    {
      "cell_type": "code",
      "source": [
        "nota = float(input(\"Nota: \"))\n",
        "if(nota<0 or nota>10):\n",
        "  print(\"Nota invalida\")\n",
        "elif(nota<5):\n",
        "    print(\"Suspenso\")\n",
        "elif(nota<7):\n",
        "  print(\"Aprobado\")\n",
        "elif(nota<9):\n",
        "    print(\"Notable\")\n",
        "elif(nota<10):\n",
        "      print(\"Sobresaliente\")\n",
        "else:\n",
        "  print(\"Honorable\")\n"
      ],
      "metadata": {
        "colab": {
          "base_uri": "https://localhost:8080/"
        },
        "id": "xIJkECcYRb0z",
        "outputId": "87795872-7932-4f23-8f33-437bbb26217f"
      },
      "execution_count": null,
      "outputs": [
        {
          "output_type": "stream",
          "name": "stdout",
          "text": [
            "Nota: 10\n",
            "Honorable\n"
          ]
        }
      ]
    },
    {
      "cell_type": "markdown",
      "source": [
        "**Escribe un programa que muestre la secuencia fibonacci**"
      ],
      "metadata": {
        "id": "k23FzPcEV4Wi"
      }
    },
    {
      "cell_type": "code",
      "source": [
        "limit = int(input(\"limit: \"))\n",
        "a = 0\n",
        "b = 1\n",
        "sum = 1\n",
        "count = 1\n",
        "print(\"Fibonacci series is: \", end = \" \")\n",
        "while c<limit:\n",
        "  count += 1\n",
        "  print(a, end=\" \")\n",
        "  a = b\n",
        "  b = sum\n",
        "  sum = a + b"
      ],
      "metadata": {
        "colab": {
          "base_uri": "https://localhost:8080/"
        },
        "id": "BgAk0h-BZl0h",
        "outputId": "749eeff8-3493-48b4-f9e4-44aebc4c4aa7"
      },
      "execution_count": null,
      "outputs": [
        {
          "output_type": "stream",
          "name": "stdout",
          "text": [
            "limit: 20\n",
            "Fibonacci series is:  "
          ]
        }
      ]
    },
    {
      "cell_type": "code",
      "source": [
        "from re import A\n",
        "limit = int(input(\"limit: \"))\n",
        "a=0\n",
        "b=1\n",
        "c=0\n",
        "while c<limit:\n",
        "  c=a+b\n",
        "  print(a, \"+\",b,\"=\", c)\n",
        "  b=a\n",
        "  a=c"
      ],
      "metadata": {
        "colab": {
          "base_uri": "https://localhost:8080/"
        },
        "id": "63l8ZY4hbrUI",
        "outputId": "077c0bfc-059c-4f26-d285-854ed77ecdab"
      },
      "execution_count": null,
      "outputs": [
        {
          "output_type": "stream",
          "name": "stdout",
          "text": [
            "limit: 50\n",
            "0 + 1 = 1\n",
            "1 + 0 = 1\n",
            "1 + 1 = 2\n",
            "2 + 1 = 3\n",
            "3 + 2 = 5\n",
            "5 + 3 = 8\n",
            "8 + 5 = 13\n",
            "13 + 8 = 21\n",
            "21 + 13 = 34\n",
            "34 + 21 = 55\n"
          ]
        }
      ]
    },
    {
      "cell_type": "markdown",
      "source": [
        "1. ** Escriba un programa que encuentre la media aritmetica de una serie de numeros intoducidas por el usuario**\n",
        "2. **Escriba un programa que determine si una palabra introducida por el usuario es palindrome o no, ejm. de palabras palindrome: Ana, oso, oro, etc**\n",
        "3. Escriba un programa que convierta un numero instroducido por el usuario a su equivalente wn numeros romanos. Ejm: 5-> V**\n"
      ],
      "metadata": {
        "id": "_Ox4W5sSdb3c"
      }
    },
    {
      "cell_type": "markdown",
      "source": [
        "**Actividad para el 25 de agosto**\n",
        "\n"
      ],
      "metadata": {
        "id": "LP-e0VqISY4V"
      }
    },
    {
      "cell_type": "markdown",
      "source": [
        "**EJERCICIO #1**\n",
        "\n",
        "**-Calcular sobre el sueldo las deducciones por ley ISSS (3%), AFP(6.25%), ISR(Según tabla) e imprima el total deducciones y\n",
        "sueldo neto. (20%)**"
      ],
      "metadata": {
        "id": "DIEfy4DQSko3"
      }
    },
    {
      "cell_type": "code",
      "source": [
        "sueldo = float(input(\"Sueldo: \"))\n",
        "isss = sueldo*0.03\n",
        "afp = sueldo*0.0625\n",
        "sueldoNeto = sueldo - (isss + afp)\n",
        "\n",
        "tablaIsr = [\n",
        "    [0.01, 472.0,    0,    0   ],\n",
        "    [472.01, 895.24, 0.1, 17.67],\n",
        "    [895.25, 2038.10, 0.2, 60  ],\n",
        "    [2038.11, 99999 , 0.3, 288.57]\n",
        "]\n",
        "isr = 0\n",
        "for tramo in tablaIsr:\n",
        "  if sueldoNeto>=tramo[0] and sueldo<=tramo[1]:\n",
        "    isr = (sueldoNeto - tramo[0])*tramo[2] + tramo[3]\n",
        "    sueldoNeto -= isr\n",
        "    print(sueldo, \"Deducciones: \", (isss + afp + isr), \"Sueldo Neto: \", sueldoNeto)"
      ],
      "metadata": {
        "colab": {
          "base_uri": "https://localhost:8080/"
        },
        "id": "1jC0nA-PSotR",
        "outputId": "e9a96635-2dd6-4d4d-f147-a1817e762b6f"
      },
      "execution_count": null,
      "outputs": [
        {
          "output_type": "stream",
          "name": "stdout",
          "text": [
            "Sueldo: 895.24\n",
            "895.24 Deducciones:  134.52173 Sueldo Neto:  760.71827\n"
          ]
        }
      ]
    },
    {
      "cell_type": "markdown",
      "source": [
        "**EJERCICIO #2**\n",
        "\n",
        "**-Conversores: (40%) (10 ítems como mínimo por cada uno)**"
      ],
      "metadata": {
        "id": "lZwClBWoY_SW"
      }
    },
    {
      "cell_type": "code",
      "metadata": {
        "id": "CWEcNF08V-YI",
        "colab": {
          "base_uri": "https://localhost:8080/"
        },
        "outputId": "586673c7-716a-4db3-d2d1-0afd5b757180"
      },
      "source": [
        "valores = [\n",
        "           [],\n",
        "           [0, 1, 0.85, 23.8, 35.11, 7.74, 8.75, 621.61], #monedas\n",
        "           [],                                         #Longitud\n",
        "           [],                                         #Masa\n",
        "]\n",
        "etiquetas = [\n",
        "           [],\n",
        "           [\"1. Dolar\", \"2. Euro\", \"3. Lempira\",\"4. Cordobas\", \"5. Quetzalez\", \"6. Colon SV\", \"7. Colon CR\"],\n",
        "           []\n",
        "]\n",
        "def convertir(conversor, de, a, cantidad):\n",
        "  return valores[conversor][a]/valores[conversor][de] * cantidad\n",
        "\n",
        "print(\"*** MENU ***\")\n",
        "print(\"* 1. Monedas\")\n",
        "print(\"* 2. Longitud\")\n",
        "print(\"* 3. Masa\")\n",
        "conversor = int(input(\"Conversor: \"))\n",
        "\n",
        "print( etiquetas[conversor] )\n",
        "\n",
        "de = int(input(\"DE: \"))\n",
        "a = int(input(\"A: \"))\n",
        "cantidad = float(input(\"Cant: \"))\n",
        "\n",
        "print(\"Respuesta: \", convertir(conversor, de, a, cantidad) )\n",
        "\n"
      ],
      "execution_count": null,
      "outputs": [
        {
          "output_type": "stream",
          "name": "stdout",
          "text": [
            "*** MENU ***\n",
            "* 1. Monedas\n",
            "* 2. Longitud\n",
            "* 3. Masa\n",
            "Conversor: 1\n",
            "['1. Dolar', '2. Euro', '3. Lempira', '4. Cordobas', '5. Quetzalez', '6. Colon SV', '7. Colon CR']\n",
            "DE: 1\n",
            "A: 4\n",
            "Cant: 1\n",
            "Respuesta:  35.11\n"
          ]
        }
      ]
    },
    {
      "cell_type": "code",
      "source": [],
      "metadata": {
        "id": "0d1DCeTTSxoN"
      },
      "execution_count": null,
      "outputs": []
    },
    {
      "cell_type": "markdown",
      "source": [
        "**EJERCICIO #3**\n",
        "\n",
        "**-Desarrolle la tabla de meses acumulados a n meses. Si puede encontrar la formula matemática para evitar ciclos. (10%)**"
      ],
      "metadata": {
        "id": "hSbFfUBa0lCk"
      }
    },
    {
      "cell_type": "code",
      "source": [
        "nmeses = int(input(\"MESES: \"))\n",
        "i=0\n",
        "acumulacion = 0\n",
        "while i<=nmeses:\n",
        "  acumulacion += i\n",
        "  i+=1\n",
        "  print(\"ACUMULACION \", acumulacion)"
      ],
      "metadata": {
        "colab": {
          "base_uri": "https://localhost:8080/"
        },
        "id": "xcszbRJz0o8w",
        "outputId": "6d80852b-e6b4-463e-8b73-68bb10f80e78"
      },
      "execution_count": null,
      "outputs": [
        {
          "output_type": "stream",
          "name": "stdout",
          "text": [
            "MESES: 10\n",
            "ACUMULACION  0\n",
            "ACUMULACION  1\n",
            "ACUMULACION  3\n",
            "ACUMULACION  6\n",
            "ACUMULACION  10\n",
            "ACUMULACION  15\n",
            "ACUMULACION  21\n",
            "ACUMULACION  28\n",
            "ACUMULACION  36\n",
            "ACUMULACION  45\n",
            "ACUMULACION  55\n"
          ]
        }
      ]
    },
    {
      "cell_type": "code",
      "source": [
        "nmeses = int(input(\"Dime los Meses Acumulado: \"))\n",
        "acumulado = nmeses * (nmeses/2 + 0.5)\n",
        "print(\"ACUMULADO: \", acumulado)"
      ],
      "metadata": {
        "colab": {
          "base_uri": "https://localhost:8080/"
        },
        "id": "Vc7jAFCk39Th",
        "outputId": "89986783-d36d-4d22-8f2b-62e262f30d64"
      },
      "execution_count": null,
      "outputs": [
        {
          "output_type": "stream",
          "name": "stdout",
          "text": [
            "Dime los Meses Acumulado: 10\n",
            "ACUMULADO:  55.0\n"
          ]
        }
      ]
    },
    {
      "cell_type": "markdown",
      "source": [
        "**EJERCICIO #4**\n",
        "\n",
        "**-Realizar un conversor propio, donde espesifique el valor de conversión: (10%)**"
      ],
      "metadata": {
        "id": "kNHi-duYc0Ou"
      }
    },
    {
      "cell_type": "markdown",
      "source": [
        "**conversion de caja a unidades y viceversa**"
      ],
      "metadata": {
        "id": "p2hFWHaXfbkm"
      }
    },
    {
      "cell_type": "code",
      "source": [
        "print(\"1 caja equivale a 25 unidades\")\n",
        "print(\"\")\n",
        "cj = float(input(\"Ingresa una cantidad de cajas: \"))\n",
        "unidades = cj*25\n",
        "print(cj,\"cajas equivalen a\" , unidades, \"unidades\")"
      ],
      "metadata": {
        "colab": {
          "base_uri": "https://localhost:8080/"
        },
        "id": "qUFDatIKfjTh",
        "outputId": "af952296-babd-45d1-e2ff-0c13a43c965e"
      },
      "execution_count": null,
      "outputs": [
        {
          "output_type": "stream",
          "name": "stdout",
          "text": [
            "1 caja equivale a 25 unidades\n",
            "\n",
            "Ingresa una cantidad de cajas: 80\n",
            "80.0 cajas equivalen a 2000.0 unidades\n"
          ]
        }
      ]
    },
    {
      "cell_type": "markdown",
      "source": [
        "**VISEVERSA**"
      ],
      "metadata": {
        "id": "7hcyb92Mg_9x"
      }
    },
    {
      "cell_type": "code",
      "source": [
        "uni = float(input(\"Ingresa una cantidad de unidades: \"))\n",
        "cj = uni/25\n",
        "print(uni,\"unidades equivalen a\",cj,\"cajas\")"
      ],
      "metadata": {
        "colab": {
          "base_uri": "https://localhost:8080/"
        },
        "id": "CdapiwOLhEsb",
        "outputId": "119a8b3f-9545-4601-d936-29f87e4893f0"
      },
      "execution_count": null,
      "outputs": [
        {
          "output_type": "stream",
          "name": "stdout",
          "text": [
            "Ingresa una cantidad de unidades: 2000.0\n",
            "2000.0 unidades equivalen a 80.0 cajas\n"
          ]
        }
      ]
    },
    {
      "cell_type": "markdown",
      "source": [
        "**conversion de saacos a libras y viseversa**"
      ],
      "metadata": {
        "id": "XKK2UC-xhnCJ"
      }
    },
    {
      "cell_type": "code",
      "source": [
        "print(\"1 saco equivale a 50 libras\")\n",
        "print(\"\")\n",
        "sc = float(input(\"Ingresa una cantidad de sacos: \"))\n",
        "Ib = sc*50\n",
        "print(sc,\"sacos equivalen a\", Ib,\"libras\")"
      ],
      "metadata": {
        "colab": {
          "base_uri": "https://localhost:8080/"
        },
        "id": "9f_qgi7rit8W",
        "outputId": "61cd3858-45e2-41b5-8589-5aebe93db8e6"
      },
      "execution_count": null,
      "outputs": [
        {
          "output_type": "stream",
          "name": "stdout",
          "text": [
            "1 saco equivale a 50 libras\n",
            "\n",
            "Ingresa una cantidad de sacos: 5\n",
            "5.0 sacos equivalen a 250.0 libras\n"
          ]
        }
      ]
    },
    {
      "cell_type": "markdown",
      "source": [
        "**VICEVERSA**"
      ],
      "metadata": {
        "id": "DzwS_QPvp_oE"
      }
    },
    {
      "cell_type": "code",
      "source": [
        "Ib = float(input(\"Ingresa una cantidad de libras: \"))\n",
        "sc = Ib/50\n",
        "print(Ib,\"libras equivalen a\",sc,\"sacos\")"
      ],
      "metadata": {
        "colab": {
          "base_uri": "https://localhost:8080/"
        },
        "id": "eJSGzUYMqEa4",
        "outputId": "f5db8b2b-a174-4de3-d01b-307f21d92a70"
      },
      "execution_count": null,
      "outputs": [
        {
          "output_type": "stream",
          "name": "stdout",
          "text": [
            "Ingresa una cantidad de libras: 250.0\n",
            "250.0 libras equivalen a 5.0 sacos\n"
          ]
        }
      ]
    },
    {
      "cell_type": "markdown",
      "source": [
        "**conversion de fardosa unidades y viseversa**"
      ],
      "metadata": {
        "id": "nnPLGJfIriY2"
      }
    },
    {
      "cell_type": "code",
      "source": [
        "print(\"1 fardo equivale a 5 unidades\")\n",
        "print(\"\")\n",
        "fr = float(input(\"Ingresa una cantidad de fardos: \"))\n",
        "un = fr*5\n",
        "print(fr,\"fardos equivalen a\", un,\"unidades\")\n"
      ],
      "metadata": {
        "colab": {
          "base_uri": "https://localhost:8080/"
        },
        "id": "xWcE-4SKrqVh",
        "outputId": "edf877ba-7dd1-412d-8709-81dc171cec4b"
      },
      "execution_count": null,
      "outputs": [
        {
          "output_type": "stream",
          "name": "stdout",
          "text": [
            "1 fardo equivale a 5 unidades\n",
            "\n",
            "Ingresa una cantidad de fardos: 5\n",
            "5.0 fardos equivalen a 25.0 unidades\n"
          ]
        }
      ]
    },
    {
      "cell_type": "markdown",
      "source": [
        "**VICEVERSA**"
      ],
      "metadata": {
        "id": "_dTMO5p3s5Z7"
      }
    },
    {
      "cell_type": "code",
      "source": [
        "un = float(input(\"Ingresa una cantidad de unidades: \"))\n",
        "fr = un/5\n",
        "print(un,\"unidades equivalen a\",fr,\"fardos\")"
      ],
      "metadata": {
        "colab": {
          "base_uri": "https://localhost:8080/"
        },
        "id": "CGMZ8LTetGe1",
        "outputId": "51cc0c57-26ef-40dc-f171-a0c7a0cc91d6"
      },
      "execution_count": null,
      "outputs": [
        {
          "output_type": "stream",
          "name": "stdout",
          "text": [
            "Ingresa una cantidad de unidades: 25.0\n",
            "25.0 unidades equivalen a 5.0 fardos\n"
          ]
        }
      ]
    },
    {
      "cell_type": "markdown",
      "source": [],
      "metadata": {
        "id": "QsKGxE0JVye6"
      }
    },
    {
      "cell_type": "markdown",
      "source": [
        "\n",
        "\n",
        "**EJERCICIO #5**\n",
        "\n",
        "**-Calcular el valor a pagar según el número de metros consumidos de agua\n",
        "potable (Ver tabla en la siguiente diapositiva).\n",
        "(20%)**"
      ],
      "metadata": {
        "id": "HPtbaSTIVzBH"
      }
    },
    {
      "cell_type": "code",
      "source": [
        "\n",
        "def calcular_valor_a_pagar(consumo_metros):\n",
        "    cuota_fija = 6\n",
        "    if consumo_metros <= 18:\n",
        "        return cuota_fija\n",
        "    elif consumo_metros <= 28:\n",
        "        exceso = consumo_metros - 18\n",
        "        valor_exceso = exceso * 0.45\n",
        "        return cuota_fija + valor_exceso\n",
        "    else:\n",
        "        exceso_1 = 10\n",
        "        exceso_2 = consumo_metros - 28\n",
        "        valor_exceso_1 = exceso_1 * 0.45\n",
        "        valor_exceso_2 = exceso_2 * 0.65\n",
        "        return cuota_fija + valor_exceso_1 + valor_exceso_2\n",
        "\n",
        "metros_consumidos = int(input(\"Ingrese la cantidad de metros consumidos: \"))\n",
        "valor_a_pagar = calcular_valor_a_pagar(metros_consumidos)\n",
        "print(f\"El valor a pagar es: ${valor_a_pagar:.2f}\")\n"
      ],
      "metadata": {
        "colab": {
          "base_uri": "https://localhost:8080/"
        },
        "id": "62pOZJE8U8Gs",
        "outputId": "9fed6b04-7a23-412a-c983-9e16025c240d"
      },
      "execution_count": null,
      "outputs": [
        {
          "output_type": "stream",
          "name": "stdout",
          "text": [
            "Ingrese la cantidad de metros consumidos: 38\n",
            "El valor a pagar es: $17.00\n"
          ]
        }
      ]
    },
    {
      "cell_type": "markdown",
      "source": [
        "**Viernes 01 septiempre 2021**\n",
        "\n",
        "**PARCIAL I**"
      ],
      "metadata": {
        "id": "C8yvLWioTjOW"
      }
    },
    {
      "cell_type": "markdown",
      "source": [
        "conversores\n",
        "EMELY ELIZABETH RODRIGUEZ MARTINEZ\n",
        "USTS046921"
      ],
      "metadata": {
        "id": "kRsU4uvZnKyH"
      }
    },
    {
      "cell_type": "code",
      "source": [
        "Areas = {\n",
        "\"pie2\": 10.7639,\n",
        "\"vara2\": 0.698896,\n",
        "\"yarda2\": 1.19599,\n",
        "\"metro2\": 1,\n",
        "\"tareas\": 0.00159033,\n",
        "\"manzanas\": 6988.96,\n",
        "\"hectarea\": 1e-4,\n",
        "\n",
        "}"
      ],
      "metadata": {
        "id": "2Az994eefuc_"
      },
      "execution_count": null,
      "outputs": []
    },
    {
      "cell_type": "code",
      "source": [
        "print(\"Elija una area:\")\n",
        "for areas in Areas:\n",
        "  print(area)\n",
        "\n",
        "  nombre_de_area = \"\"\n",
        "  nombre_area_a_convertir = \"\"\n",
        "  while nombre_de_area not in Areas:\n",
        "    nombre_de_area = input(\"area 1: \")\n",
        "\n",
        "    while nombre_area_a_convertir not in Areas:\n",
        "      nombre_area_a_convertir = input(\"area 2: \")\n",
        "\n",
        "      cantidad = float(input(f\"Ingresa la cantidad de [nombre_de_area]: \"))\n",
        "      equivalencia_origen = Area[nombre_de_area]\n",
        "      equivalencia_destino = Areas[nombre_area_a_convertir]\n",
        "      equivalencia = (equivalencia_destino/equivalencia_origen)*cantidad\n",
        "      print(f\"[cantidad:.2f] [nombre_de_area] equivale a [equivalencia:.2f] [nombre_area_a_convertir].\")"
      ],
      "metadata": {
        "colab": {
          "base_uri": "https://localhost:8080/"
        },
        "id": "f9FvBxZZhGsz",
        "outputId": "a8a52680-88b6-4d7f-c606-dd26953e211e"
      },
      "execution_count": null,
      "outputs": [
        {
          "output_type": "stream",
          "name": "stdout",
          "text": [
            "Elija una area:\n",
            "pie2\n"
          ]
        }
      ]
    }
  ],
  "metadata": {
    "colab": {
      "provenance": [],
      "authorship_tag": "ABX9TyMtE+yq1817Gb8TgdtoxZqW",
      "include_colab_link": true
    },
    "kernelspec": {
      "display_name": "Python 3",
      "name": "python3"
    },
    "language_info": {
      "name": "python"
    }
  },
  "nbformat": 4,
  "nbformat_minor": 0
}